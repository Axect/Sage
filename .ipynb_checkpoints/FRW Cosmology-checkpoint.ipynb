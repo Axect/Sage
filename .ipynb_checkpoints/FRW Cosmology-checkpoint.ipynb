{
 "cells": [
  {
   "cell_type": "markdown",
   "metadata": {
    "collapsed": true,
    "deletable": true,
    "editable": true
   },
   "source": [
    "<h1 style=\"text-align:center\">FRW Cosmology</h1>\n",
    "<p style=\"text-align:right\"><b>Tae Geun Kim</b>\n",
    "\n",
    "-----\n",
    "\n",
    "## - Table of Contents\n",
    "\n",
    "1. <a href=\"#geom\">Geometric Structure</a>\n",
    "2. <a href=\"#matt\">Matter Information</a>\n",
    "3. <a href=\"#ein\">Einstein Equation</a>\n",
    "\n",
    "-----"
   ]
  },
  {
   "cell_type": "markdown",
   "metadata": {},
   "source": [
    "<h2 name=\"geom\">1. Geometric Structure</h2>"
   ]
  },
  {
   "cell_type": "code",
   "execution_count": null,
   "metadata": {
    "collapsed": true
   },
   "outputs": [],
   "source": []
  }
 ],
 "metadata": {
  "kernelspec": {
   "display_name": "SageMath 8.0",
   "language": "",
   "name": "sagemath"
  },
  "language_info": {
   "codemirror_mode": {
    "name": "ipython",
    "version": 2
   },
   "file_extension": ".py",
   "mimetype": "text/x-python",
   "name": "python",
   "nbconvert_exporter": "python",
   "pygments_lexer": "ipython2",
   "version": "2.7.13"
  }
 },
 "nbformat": 4,
 "nbformat_minor": 2
}
