{
 "cells": [
  {
   "cell_type": "markdown",
   "metadata": {},
   "source": [
    "# Schwarzschild Metric "
   ]
  },
  {
   "cell_type": "code",
   "execution_count": 1,
   "metadata": {
    "collapsed": true,
    "deletable": true,
    "editable": true
   },
   "outputs": [],
   "source": [
    "%display latex"
   ]
  },
  {
   "cell_type": "code",
   "execution_count": 2,
   "metadata": {
    "collapsed": true,
    "deletable": true,
    "editable": true
   },
   "outputs": [],
   "source": [
    "Man = Manifold(4, 'M', r'\\mathcal{M}')"
   ]
  },
  {
   "cell_type": "code",
   "execution_count": 3,
   "metadata": {
    "collapsed": true,
    "deletable": true,
    "editable": true
   },
   "outputs": [],
   "source": [
    "BL.<t,r,th,ph> = Man.chart(r't r:(0,+oo) th:(0,pi):\\theta ph:(0,2*pi):\\phi')"
   ]
  },
  {
   "cell_type": "code",
   "execution_count": 4,
   "metadata": {
    "collapsed": false,
    "deletable": true,
    "editable": true
   },
   "outputs": [
    {
     "data": {
      "text/html": [
       "<html><script type=\"math/tex; mode=display\">\\newcommand{\\Bold}[1]{\\mathbf{#1}}g = \\left( -\\frac{2 \\, M}{r} + 1 \\right) \\mathrm{d} t\\otimes \\mathrm{d} t + \\left( \\frac{1}{\\frac{2 \\, M}{r} - 1} \\right) \\mathrm{d} r\\otimes \\mathrm{d} r -r^{2} \\mathrm{d} {\\theta}\\otimes \\mathrm{d} {\\theta} -r^{2} \\sin\\left({\\theta}\\right)^{2} \\mathrm{d} {\\phi}\\otimes \\mathrm{d} {\\phi}</script></html>"
      ],
      "text/plain": [
       "g = (-2*M/r + 1) dt*dt + 1/(2*M/r - 1) dr*dr - r^2 dth*dth - r^2*sin(th)^2 dph*dph"
      ]
     },
     "metadata": {},
     "output_type": "display_data"
    },
    {
     "data": {
      "text/html": [
       "<html><script type=\"math/tex; mode=display\">\\newcommand{\\Bold}[1]{\\mathbf{#1}}\\left(\\begin{array}{rrrr}\n",
       "-\\frac{2 \\, M}{r} + 1 & 0 & 0 & 0 \\\\\n",
       "0 & \\frac{1}{\\frac{2 \\, M}{r} - 1} & 0 & 0 \\\\\n",
       "0 & 0 & -r^{2} & 0 \\\\\n",
       "0 & 0 & 0 & -r^{2} \\sin\\left({\\theta}\\right)^{2}\n",
       "\\end{array}\\right)</script></html>"
      ],
      "text/plain": [
       "[    -2*M/r + 1              0              0              0]\n",
       "[             0  1/(2*M/r - 1)              0              0]\n",
       "[             0              0           -r^2              0]\n",
       "[             0              0              0 -r^2*sin(th)^2]"
      ]
     },
     "metadata": {},
     "output_type": "display_data"
    }
   ],
   "source": [
    "var('M')\n",
    "g = Man.lorentzian_metric('g')\n",
    "g[0,0] = (1-2*M/r)\n",
    "g[1,1] = -1/(1-2*M/r)\n",
    "g[2,2] = -r^2\n",
    "g[3,3] = -r^2*sin(th)^2\n",
    "show(g.display())\n",
    "show(g[:])"
   ]
  },
  {
   "cell_type": "code",
   "execution_count": 5,
   "metadata": {
    "collapsed": false,
    "deletable": true,
    "editable": true
   },
   "outputs": [
    {
     "data": {
      "text/html": [
       "<html><script type=\"math/tex; mode=display\">\\newcommand{\\Bold}[1]{\\mathbf{#1}}\\begin{array}{lcl} \\Gamma_{ \\phantom{\\, t} \\, t \\, r }^{ \\, t \\phantom{\\, t} \\phantom{\\, r} } & = & -\\frac{M}{2 \\, M r - r^{2}} \\\\ \\Gamma_{ \\phantom{\\, r} \\, t \\, t }^{ \\, r \\phantom{\\, t} \\phantom{\\, t} } & = & -\\frac{2 \\, M^{2} - M r}{r^{3}} \\\\ \\Gamma_{ \\phantom{\\, r} \\, r \\, r }^{ \\, r \\phantom{\\, r} \\phantom{\\, r} } & = & \\frac{M}{2 \\, M r - r^{2}} \\\\ \\Gamma_{ \\phantom{\\, r} \\, {\\theta} \\, {\\theta} }^{ \\, r \\phantom{\\, {\\theta}} \\phantom{\\, {\\theta}} } & = & 2 \\, M - r \\\\ \\Gamma_{ \\phantom{\\, r} \\, {\\phi} \\, {\\phi} }^{ \\, r \\phantom{\\, {\\phi}} \\phantom{\\, {\\phi}} } & = & {\\left(2 \\, M - r\\right)} \\sin\\left({\\theta}\\right)^{2} \\\\ \\Gamma_{ \\phantom{\\, {\\theta}} \\, r \\, {\\theta} }^{ \\, {\\theta} \\phantom{\\, r} \\phantom{\\, {\\theta}} } & = & \\frac{1}{r} \\\\ \\Gamma_{ \\phantom{\\, {\\theta}} \\, {\\phi} \\, {\\phi} }^{ \\, {\\theta} \\phantom{\\, {\\phi}} \\phantom{\\, {\\phi}} } & = & -\\cos\\left({\\theta}\\right) \\sin\\left({\\theta}\\right) \\\\ \\Gamma_{ \\phantom{\\, {\\phi}} \\, r \\, {\\phi} }^{ \\, {\\phi} \\phantom{\\, r} \\phantom{\\, {\\phi}} } & = & \\frac{1}{r} \\\\ \\Gamma_{ \\phantom{\\, {\\phi}} \\, {\\theta} \\, {\\phi} }^{ \\, {\\phi} \\phantom{\\, {\\theta}} \\phantom{\\, {\\phi}} } & = & \\frac{\\cos\\left({\\theta}\\right)}{\\sin\\left({\\theta}\\right)} \\end{array}</script></html>"
      ],
      "text/plain": [
       "Gam^t_t,r = -M/(2*M*r - r^2) \n",
       "Gam^r_t,t = -(2*M^2 - M*r)/r^3 \n",
       "Gam^r_r,r = M/(2*M*r - r^2) \n",
       "Gam^r_th,th = 2*M - r \n",
       "Gam^r_ph,ph = (2*M - r)*sin(th)^2 \n",
       "Gam^th_r,th = 1/r \n",
       "Gam^th_ph,ph = -cos(th)*sin(th) \n",
       "Gam^ph_r,ph = 1/r \n",
       "Gam^ph_th,ph = cos(th)/sin(th) "
      ]
     },
     "metadata": {},
     "output_type": "display_data"
    }
   ],
   "source": [
    "nab = g.connection()\n",
    "show(nab.display(only_nonredundant=true))"
   ]
  },
  {
   "cell_type": "code",
   "execution_count": 6,
   "metadata": {
    "collapsed": false,
    "deletable": true,
    "editable": true
   },
   "outputs": [
    {
     "data": {
      "text/html": [
       "<html><script type=\"math/tex; mode=display\">\\newcommand{\\Bold}[1]{\\mathbf{#1}}\\mathrm{Ric}\\left(g\\right) = 0</script></html>"
      ],
      "text/plain": [
       "Ric(g) = 0"
      ]
     },
     "metadata": {},
     "output_type": "display_data"
    }
   ],
   "source": [
    "Ric = nab.ricci()\n",
    "show(Ric.display())"
   ]
  },
  {
   "cell_type": "code",
   "execution_count": 7,
   "metadata": {
    "collapsed": false,
    "deletable": true,
    "editable": true
   },
   "outputs": [
    {
     "data": {
      "text/html": [
       "<html><script type=\"math/tex; mode=display\">\\newcommand{\\Bold}[1]{\\mathbf{#1}}\\begin{array}{llcl} \\mathrm{r}\\left(g\\right):& \\mathcal{M} & \\longrightarrow & \\mathbb{R} \\\\ & \\left(t, r, {\\theta}, {\\phi}\\right) & \\longmapsto & 0 \\end{array}</script></html>"
      ],
      "text/plain": [
       "R: M --> R\n",
       "   (t, r, th, ph) |--> 0"
      ]
     },
     "metadata": {},
     "output_type": "display_data"
    }
   ],
   "source": [
    "R = g.ricci_scalar('R')\n",
    "show(R.display())"
   ]
  },
  {
   "cell_type": "code",
   "execution_count": 8,
   "metadata": {
    "collapsed": false,
    "deletable": true,
    "editable": true
   },
   "outputs": [
    {
     "data": {
      "text/html": [
       "<html><script type=\"math/tex; mode=display\">\\newcommand{\\Bold}[1]{\\mathbf{#1}}G_{\\mu\\nu} = 0</script></html>"
      ],
      "text/plain": [
       "G_{\\mu\\nu} = 0"
      ]
     },
     "metadata": {},
     "output_type": "display_data"
    }
   ],
   "source": [
    "ET = Ric - 1/2*g*R\n",
    "ET.set_name(r'G_{\\mu\\nu}')\n",
    "show(ET.display())"
   ]
  },
  {
   "cell_type": "code",
   "execution_count": 12,
   "metadata": {
    "collapsed": false
   },
   "outputs": [],
   "source": [
    "var('eta, m, E, L, S, HJfull');\n",
    "F = function('F')(r);\n",
    "G = function('G')(th);\n",
    "ginv = g.inverse();\n"
   ]
  },
  {
   "cell_type": "code",
   "execution_count": 13,
   "metadata": {
    "collapsed": true
   },
   "outputs": [],
   "source": [
    "S = ((eta*m^2)/2 - E*t + L*ph + F+G)"
   ]
  },
  {
   "cell_type": "code",
   "execution_count": 14,
   "metadata": {
    "collapsed": false
   },
   "outputs": [
    {
     "data": {
      "text/html": [
       "<html><script type=\"math/tex; mode=display\">\\newcommand{\\Bold}[1]{\\mathbf{#1}}\\frac{1}{2} \\, m^{2} + \\frac{E^{2} r}{2 \\, {\\left(2 \\, M - r\\right)}} - \\frac{{\\left(2 \\, M - r\\right)} \\frac{\\partial}{\\partial r}F\\left(r\\right)^{2}}{2 \\, r} + \\frac{\\frac{\\partial}{\\partial {\\theta}}G\\left({\\theta}\\right)^{2}}{2 \\, r^{2}} + \\frac{L^{2}}{2 \\, r^{2} \\sin\\left({\\theta}\\right)^{2}}</script></html>"
      ],
      "text/plain": [
       "1/2*m^2 + 1/2*E^2*r/(2*M - r) - 1/2*(2*M - r)*diff(F(r), r)^2/r + 1/2*diff(G(th), th)^2/r^2 + 1/2*L^2/(r^2*sin(th)^2)"
      ]
     },
     "metadata": {},
     "output_type": "display_data"
    }
   ],
   "source": [
    "HJfull = 0;\n",
    "l = len(BL[:])\n",
    "for i in range(l):\n",
    "    for j in range(l):\n",
    "        HJfull += ginv[i,j].expr()*diff(S, BL[i])*diff(S,BL[j])\n",
    "HJfull = (diff(S,eta)) - 1/2 * HJfull;\n",
    "show(HJfull)"
   ]
  },
  {
   "cell_type": "code",
   "execution_count": 15,
   "metadata": {
    "collapsed": false
   },
   "outputs": [
    {
     "data": {
      "text/html": [
       "<html><script type=\"math/tex; mode=display\">\\newcommand{\\Bold}[1]{\\mathbf{#1}}\\left(-\\frac{E r}{2 \\, M - r},\\,-\\frac{{\\left(2 \\, M - r\\right)} \\frac{\\partial}{\\partial r}F\\left(r\\right)}{r},\\,\\frac{\\frac{\\partial}{\\partial {\\theta}}G\\left({\\theta}\\right)}{r^{2}},\\,\\frac{L}{r^{2} \\sin\\left({\\theta}\\right)^{2}}\\right)</script></html>"
      ],
      "text/plain": [
       "(-E*r/(2*M - r), -(2*M - r)*diff(F(r), r)/r, diff(G(th), th)/r^2, L/(r^2*sin(th)^2))"
      ]
     },
     "metadata": {},
     "output_type": "display_data"
    }
   ],
   "source": [
    "geodeqnrhs = zero_vector(SR, l)\n",
    "\n",
    "for mu in range(l):\n",
    "    for nu in range(l):\n",
    "        geodeqnrhs[mu] -= ginv[mu,nu].expr()*diff(S,BL[nu]);\n",
    "show(geodeqnrhs)"
   ]
  },
  {
   "cell_type": "code",
   "execution_count": 16,
   "metadata": {
    "collapsed": false
   },
   "outputs": [
    {
     "data": {
      "text/html": [
       "<html><script type=\"math/tex; mode=display\">\\newcommand{\\Bold}[1]{\\mathbf{#1}}\\frac{1}{2} \\, m^{2} + \\frac{E^{2} r}{2 \\, {\\left(2 \\, M - r\\right)}} - \\frac{{\\left(2 \\, M - r\\right)} \\frac{\\partial}{\\partial r}F\\left(r\\right)^{2}}{2 \\, r} + \\frac{L^{2}}{2 \\, r^{2}}</script></html>"
      ],
      "text/plain": [
       "1/2*m^2 + 1/2*E^2*r/(2*M - r) - 1/2*(2*M - r)*diff(F(r), r)^2/r + 1/2*L^2/r^2"
      ]
     },
     "metadata": {},
     "output_type": "display_data"
    }
   ],
   "source": [
    "var('HJst')\n",
    "HJst = (HJfull.subs(diff(G)==0)).subs(th=pi/2)\n",
    "show(HJst)"
   ]
  },
  {
   "cell_type": "code",
   "execution_count": 17,
   "metadata": {
    "collapsed": false
   },
   "outputs": [
    {
     "data": {
      "text/html": [
       "<html><script type=\"math/tex; mode=display\">\\newcommand{\\Bold}[1]{\\mathbf{#1}}\\left(-\\frac{E r}{2 \\, M - r},\\,-\\frac{{\\left(2 \\, M - r\\right)} \\frac{\\partial}{\\partial r}F\\left(r\\right)}{r},\\,0,\\,\\frac{L}{r^{2}}\\right)</script></html>"
      ],
      "text/plain": [
       "(-E*r/(2*M - r), -(2*M - r)*diff(F(r), r)/r, 0, L/r^2)"
      ]
     },
     "metadata": {},
     "output_type": "display_data"
    }
   ],
   "source": [
    "geodeqnrhsst = (geodeqnrhs.subs(diff(G)==0)).subs(th=pi/2);\n",
    "show(geodeqnrhsst)"
   ]
  },
  {
   "cell_type": "code",
   "execution_count": 19,
   "metadata": {
    "collapsed": true
   },
   "outputs": [],
   "source": [
    "var('m_aux, L_aux, E_aux, M_aux, r_init, ph_init, eta_end, step_size');"
   ]
  },
  {
   "cell_type": "code",
   "execution_count": 86,
   "metadata": {
    "collapsed": false
   },
   "outputs": [],
   "source": [
    "m_aux = 0\n",
    "M_aux = 10\n",
    "L_aux = 23\n",
    "E_aux = 0.4429\n",
    "step_size = 1\n",
    "eta_end = 10000\n",
    "r_init = 10*M_aux\n",
    "ph_init = 0.3"
   ]
  },
  {
   "cell_type": "code",
   "execution_count": 87,
   "metadata": {
    "collapsed": true
   },
   "outputs": [],
   "source": [
    "derofradfun = solve(HJst, diff(F,r))\n",
    "geodeqn1 = ((geodeqnrhsst[1]/geodeqnrhsst[0]).subs(diff(F,r)==derofradfun[1].rhs())).subs(E=E_aux, L=L_aux, m=m_aux, M=M_aux);\n",
    "geodeqn2 = ((geodeqnrhsst[3]/geodeqnrhsst[0]).subs(E=E_aux, L=L_aux, m=m_aux, M=M_aux));"
   ]
  },
  {
   "cell_type": "code",
   "execution_count": 88,
   "metadata": {
    "collapsed": true
   },
   "outputs": [],
   "source": [
    "sol = desolve_odeint([geodeqn1, geodeqn2], [r_init, ph_init], srange(0,eta_end,step_size), [r,ph])"
   ]
  },
  {
   "cell_type": "code",
   "execution_count": 91,
   "metadata": {
    "collapsed": false
   },
   "outputs": [
    {
     "data": {
      "text/html": [
       "<html><script type=\"math/tex; mode=display\">\\newcommand{\\Bold}[1]{\\mathbf{#1}}\\begin{array}{l}\n",
       "\\verb|[[|\\phantom{\\verb!xx!}\\verb|1.00000000e+02|\\phantom{\\verb!xxx!}\\verb|3.00000000e-01]|\\\\\n",
       "\\phantom{\\verb!x!}\\verb|[|\\phantom{\\verb!xx!}\\verb|1.00709693e+02|\\phantom{\\verb!xxx!}\\verb|3.04128813e-01]|\\\\\n",
       "\\phantom{\\verb!x!}\\verb|[|\\phantom{\\verb!xx!}\\verb|1.01421821e+02|\\phantom{\\verb!xxx!}\\verb|3.08206874e-01]|\\\\\n",
       "\\phantom{\\verb!x!}\\verb|...,|\\\\\n",
       "\\phantom{\\verb!x!}\\verb|[|\\phantom{\\verb!xx!}\\verb|9.98628078e+03|\\phantom{\\verb!xxx!}\\verb|8.36214144e-01]|\\\\\n",
       "\\phantom{\\verb!x!}\\verb|[|\\phantom{\\verb!xx!}\\verb|9.98727876e+03|\\phantom{\\verb!xxx!}\\verb|8.36214664e-01]|\\\\\n",
       "\\phantom{\\verb!x!}\\verb|[|\\phantom{\\verb!xx!}\\verb|9.98827675e+03|\\phantom{\\verb!xxx!}\\verb|8.36215183e-01]]|\n",
       "\\end{array}</script></html>"
      ],
      "text/plain": [
       "array([[  1.00000000e+02,   3.00000000e-01],\n",
       "       [  1.00709693e+02,   3.04128813e-01],\n",
       "       [  1.01421821e+02,   3.08206874e-01],\n",
       "       ..., \n",
       "       [  9.98628078e+03,   8.36214144e-01],\n",
       "       [  9.98727876e+03,   8.36214664e-01],\n",
       "       [  9.98827675e+03,   8.36215183e-01]])"
      ]
     },
     "metadata": {},
     "output_type": "display_data"
    }
   ],
   "source": [
    "show(sol)"
   ]
  },
  {
   "cell_type": "code",
   "execution_count": 89,
   "metadata": {
    "collapsed": true
   },
   "outputs": [],
   "source": [
    "p = line(zip(sol[:,0]*cos(sol[:,1]),sol[:,0]*sin(sol[:,1])))"
   ]
  },
  {
   "cell_type": "code",
   "execution_count": 90,
   "metadata": {
    "collapsed": false
   },
   "outputs": [
    {
     "data": {
      "image/png": "[encoded data removed]",
      "text/plain": [
       "Graphics object consisting of 2 graphics primitives"
      ]
     },
     "metadata": {},
     "output_type": "display_data"
    }
   ],
   "source": [
    "C=circle((0,0), 2*M_aux, fill=True, rgbcolor='black');\n",
    "show(C+p)"
   ]
  },
  {
   "cell_type": "code",
   "execution_count": null,
   "metadata": {
    "collapsed": true
   },
   "outputs": [],
   "source": []
  }
 ],
 "metadata": {
  "kernelspec": {
   "display_name": "SageMath 8.0",
   "language": "",
   "name": "sagemath"
  },
  "language_info": {
   "codemirror_mode": {
    "name": "ipython",
    "version": 2
   },
   "file_extension": ".py",
   "mimetype": "text/x-python",
   "name": "python",
   "nbconvert_exporter": "python",
   "pygments_lexer": "ipython2",
   "version": "2.7.13"
  }
 },
 "nbformat": 4,
 "nbformat_minor": 2
}
