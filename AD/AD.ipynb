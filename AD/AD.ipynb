{
 "cells": [
  {
   "cell_type": "code",
   "execution_count": 1,
   "metadata": {},
   "outputs": [],
   "source": [
    "%display latex"
   ]
  },
  {
   "cell_type": "code",
   "execution_count": 2,
   "metadata": {},
   "outputs": [
    {
     "data": {
      "text/html": [
       "<html><script type=\"math/tex; mode=display\">\\newcommand{\\Bold}[1]{\\mathbf{#1}}t</script></html>"
      ],
      "text/plain": [
       "t"
      ]
     },
     "execution_count": 2,
     "metadata": {},
     "output_type": "execute_result"
    }
   ],
   "source": [
    "var('t', domain='real')"
   ]
  },
  {
   "cell_type": "code",
   "execution_count": 3,
   "metadata": {},
   "outputs": [],
   "source": [
    "x = function('x')(t)"
   ]
  },
  {
   "cell_type": "code",
   "execution_count": 4,
   "metadata": {},
   "outputs": [],
   "source": [
    "y = function('y')(t)"
   ]
  },
  {
   "cell_type": "code",
   "execution_count": 5,
   "metadata": {},
   "outputs": [
    {
     "data": {
      "text/html": [
       "<html><script type=\"math/tex; mode=display\">\\newcommand{\\Bold}[1]{\\mathbf{#1}}\\frac{\\frac{\\partial}{\\partial t}x\\left(t\\right)}{y\\left(t\\right)} - \\frac{x\\left(t\\right) \\frac{\\partial}{\\partial t}y\\left(t\\right)}{y\\left(t\\right)^{2}}</script></html>"
      ],
      "text/plain": [
       "diff(x(t), t)/y(t) - x(t)*diff(y(t), t)/y(t)^2"
      ]
     },
     "execution_count": 5,
     "metadata": {},
     "output_type": "execute_result"
    }
   ],
   "source": [
    "diff(x/y, t)"
   ]
  },
  {
   "cell_type": "code",
   "execution_count": 6,
   "metadata": {},
   "outputs": [
    {
     "data": {
      "text/html": [
       "<html><script type=\"math/tex; mode=display\">\\newcommand{\\Bold}[1]{\\mathbf{#1}}\\frac{y\\left(t\\right)^{2} \\frac{\\partial^{2}}{(\\partial t)^{2}}x\\left(t\\right) - 2 \\, y\\left(t\\right) \\frac{\\partial}{\\partial t}x\\left(t\\right) \\frac{\\partial}{\\partial t}y\\left(t\\right) + 2 \\, x\\left(t\\right) \\frac{\\partial}{\\partial t}y\\left(t\\right)^{2} - x\\left(t\\right) y\\left(t\\right) \\frac{\\partial^{2}}{(\\partial t)^{2}}y\\left(t\\right)}{y\\left(t\\right)^{3}}</script></html>"
      ],
      "text/plain": [
       "(y(t)^2*diff(x(t), t, t) - 2*y(t)*diff(x(t), t)*diff(y(t), t) + 2*x(t)*diff(y(t), t)^2 - x(t)*y(t)*diff(y(t), t, t))/y(t)^3"
      ]
     },
     "execution_count": 6,
     "metadata": {},
     "output_type": "execute_result"
    }
   ],
   "source": [
    "diff(x/y, t, 2).simplify_full()"
   ]
  },
  {
   "cell_type": "code",
   "execution_count": 7,
   "metadata": {},
   "outputs": [
    {
     "data": {
      "text/html": [
       "<html><script type=\"math/tex; mode=display\">\\newcommand{\\Bold}[1]{\\mathbf{#1}}\\frac{y\\left(t\\right)^{3} \\frac{\\partial^{3}}{(\\partial t)^{3}}x\\left(t\\right) - 3 \\, y\\left(t\\right)^{2} \\frac{\\partial^{2}}{(\\partial t)^{2}}x\\left(t\\right) \\frac{\\partial}{\\partial t}y\\left(t\\right) + 6 \\, y\\left(t\\right) \\frac{\\partial}{\\partial t}x\\left(t\\right) \\frac{\\partial}{\\partial t}y\\left(t\\right)^{2} - 6 \\, x\\left(t\\right) \\frac{\\partial}{\\partial t}y\\left(t\\right)^{3} - x\\left(t\\right) y\\left(t\\right)^{2} \\frac{\\partial^{3}}{(\\partial t)^{3}}y\\left(t\\right) - 3 \\, {\\left(y\\left(t\\right)^{2} \\frac{\\partial}{\\partial t}x\\left(t\\right) - 2 \\, x\\left(t\\right) y\\left(t\\right) \\frac{\\partial}{\\partial t}y\\left(t\\right)\\right)} \\frac{\\partial^{2}}{(\\partial t)^{2}}y\\left(t\\right)}{y\\left(t\\right)^{4}}</script></html>"
      ],
      "text/plain": [
       "(y(t)^3*diff(x(t), t, t, t) - 3*y(t)^2*diff(x(t), t, t)*diff(y(t), t) + 6*y(t)*diff(x(t), t)*diff(y(t), t)^2 - 6*x(t)*diff(y(t), t)^3 - x(t)*y(t)^2*diff(y(t), t, t, t) - 3*(y(t)^2*diff(x(t), t) - 2*x(t)*y(t)*diff(y(t), t))*diff(y(t), t, t))/y(t)^4"
      ]
     },
     "execution_count": 7,
     "metadata": {},
     "output_type": "execute_result"
    }
   ],
   "source": [
    "diff(x/y,t,3).simplify_full()"
   ]
  },
  {
   "cell_type": "code",
   "execution_count": 8,
   "metadata": {},
   "outputs": [
    {
     "data": {
      "text/html": [
       "<html><script type=\"math/tex; mode=display\">\\newcommand{\\Bold}[1]{\\mathbf{#1}}-\\frac{\\frac{\\partial}{\\partial t}x\\left(t\\right)^{2}}{x\\left(t\\right)^{2}} + \\frac{\\frac{\\partial^{2}}{(\\partial t)^{2}}x\\left(t\\right)}{x\\left(t\\right)}</script></html>"
      ],
      "text/plain": [
       "-diff(x(t), t)^2/x(t)^2 + diff(x(t), t, t)/x(t)"
      ]
     },
     "execution_count": 8,
     "metadata": {},
     "output_type": "execute_result"
    }
   ],
   "source": [
    "diff(log(x), t, 2)"
   ]
  },
  {
   "cell_type": "code",
   "execution_count": 9,
   "metadata": {},
   "outputs": [
    {
     "data": {
      "text/html": [
       "<html><script type=\"math/tex; mode=display\">\\newcommand{\\Bold}[1]{\\mathbf{#1}}n</script></html>"
      ],
      "text/plain": [
       "n"
      ]
     },
     "execution_count": 9,
     "metadata": {},
     "output_type": "execute_result"
    }
   ],
   "source": [
    "var('n', domain='real')"
   ]
  },
  {
   "cell_type": "code",
   "execution_count": 10,
   "metadata": {},
   "outputs": [
    {
     "data": {
      "text/html": [
       "<html><script type=\"math/tex; mode=display\">\\newcommand{\\Bold}[1]{\\mathbf{#1}}{\\left(n - 1\\right)} n x\\left(t\\right)^{n - 2} \\frac{\\partial}{\\partial t}x\\left(t\\right)^{2} + n x\\left(t\\right)^{n - 1} \\frac{\\partial^{2}}{(\\partial t)^{2}}x\\left(t\\right)</script></html>"
      ],
      "text/plain": [
       "(n - 1)*n*x(t)^(n - 2)*diff(x(t), t)^2 + n*x(t)^(n - 1)*diff(x(t), t, t)"
      ]
     },
     "execution_count": 10,
     "metadata": {},
     "output_type": "execute_result"
    }
   ],
   "source": [
    "diff(x^n, t, 2)"
   ]
  },
  {
   "cell_type": "code",
   "execution_count": 11,
   "metadata": {},
   "outputs": [
    {
     "data": {
      "text/plain": [
       "\u001b[0;31mSignature:\u001b[0m      \u001b[0mdiff\u001b[0m\u001b[0;34m(\u001b[0m\u001b[0mf\u001b[0m\u001b[0;34m,\u001b[0m \u001b[0;34m*\u001b[0m\u001b[0margs\u001b[0m\u001b[0;34m,\u001b[0m \u001b[0;34m**\u001b[0m\u001b[0mkwds\u001b[0m\u001b[0;34m)\u001b[0m\u001b[0;34m\u001b[0m\u001b[0;34m\u001b[0m\u001b[0m\n",
       "\u001b[0;31mDocstring:\u001b[0m     \n",
       "   The derivative of f.\n",
       "\n",
       "   Repeated differentiation is supported by the syntax given in the\n",
       "   examples below.\n",
       "\n",
       "   ALIAS: diff\n",
       "\n",
       "   EXAMPLES: We differentiate a callable symbolic function:\n",
       "\n",
       "      sage: f(x,y) = x*y + sin(x^2) + e^(-x)\n",
       "      sage: f\n",
       "      (x, y) |--> x*y + e^(-x) + sin(x^2)\n",
       "      sage: derivative(f, x)\n",
       "      (x, y) |--> 2*x*cos(x^2) + y - e^(-x)\n",
       "      sage: derivative(f, y)\n",
       "      (x, y) |--> x\n",
       "\n",
       "   We differentiate a polynomial:\n",
       "\n",
       "      sage: t = polygen(QQ, 't')\n",
       "      sage: f = (1-t)^5; f\n",
       "      -t^5 + 5*t^4 - 10*t^3 + 10*t^2 - 5*t + 1\n",
       "      sage: derivative(f)\n",
       "      -5*t^4 + 20*t^3 - 30*t^2 + 20*t - 5\n",
       "      sage: derivative(f, t)\n",
       "      -5*t^4 + 20*t^3 - 30*t^2 + 20*t - 5\n",
       "      sage: derivative(f, t, t)\n",
       "      -20*t^3 + 60*t^2 - 60*t + 20\n",
       "      sage: derivative(f, t, 2)\n",
       "      -20*t^3 + 60*t^2 - 60*t + 20\n",
       "      sage: derivative(f, 2)\n",
       "      -20*t^3 + 60*t^2 - 60*t + 20\n",
       "\n",
       "   We differentiate a symbolic expression:\n",
       "\n",
       "      sage: var('a x')\n",
       "      (a, x)\n",
       "      sage: f = exp(sin(a - x^2))/x\n",
       "      sage: derivative(f, x)\n",
       "      -2*cos(-x^2 + a)*e^(sin(-x^2 + a)) - e^(sin(-x^2 + a))/x^2\n",
       "      sage: derivative(f, a)\n",
       "      cos(-x^2 + a)*e^(sin(-x^2 + a))/x\n",
       "\n",
       "   Syntax for repeated differentiation:\n",
       "\n",
       "      sage: R.<u, v> = PolynomialRing(QQ)\n",
       "      sage: f = u^4*v^5\n",
       "      sage: derivative(f, u)\n",
       "      4*u^3*v^5\n",
       "      sage: f.derivative(u)   # can always use method notation too\n",
       "      4*u^3*v^5\n",
       "\n",
       "      sage: derivative(f, u, u)\n",
       "      12*u^2*v^5\n",
       "      sage: derivative(f, u, u, u)\n",
       "      24*u*v^5\n",
       "      sage: derivative(f, u, 3)\n",
       "      24*u*v^5\n",
       "\n",
       "      sage: derivative(f, u, v)\n",
       "      20*u^3*v^4\n",
       "      sage: derivative(f, u, 2, v)\n",
       "      60*u^2*v^4\n",
       "      sage: derivative(f, u, v, 2)\n",
       "      80*u^3*v^3\n",
       "      sage: derivative(f, [u, v, v])\n",
       "      80*u^3*v^3\n",
       "\u001b[0;31mInit docstring:\u001b[0m Initialize self.  See help(type(self)) for accurate signature.\n",
       "\u001b[0;31mFile:\u001b[0m           /usr/lib/python3.8/site-packages/sage/calculus/functional.py\n",
       "\u001b[0;31mType:\u001b[0m           function\n"
      ]
     },
     "metadata": {},
     "output_type": "display_data"
    }
   ],
   "source": [
    "?diff"
   ]
  },
  {
   "cell_type": "code",
   "execution_count": 12,
   "metadata": {},
   "outputs": [
    {
     "data": {
      "text/html": [
       "<html><script type=\"math/tex; mode=display\">\\newcommand{\\Bold}[1]{\\mathbf{#1}}\\frac{1}{3} \\, \\frac{\\partial}{\\partial t}x\\left(t\\right)</script></html>"
      ],
      "text/plain": [
       "1/3*diff(x(t), t)"
      ]
     },
     "execution_count": 12,
     "metadata": {},
     "output_type": "execute_result"
    }
   ],
   "source": [
    "diff(log(x), t, 1).subs(x==3)"
   ]
  },
  {
   "cell_type": "code",
   "execution_count": 13,
   "metadata": {},
   "outputs": [
    {
     "data": {
      "text/html": [
       "<html><script type=\"math/tex; mode=display\">\\newcommand{\\Bold}[1]{\\mathbf{#1}}-\\frac{1}{9} \\, \\frac{\\partial}{\\partial t}x\\left(t\\right)^{2} + \\frac{1}{3} \\, \\frac{\\partial^{2}}{(\\partial t)^{2}}x\\left(t\\right)</script></html>"
      ],
      "text/plain": [
       "-1/9*diff(x(t), t)^2 + 1/3*diff(x(t), t, t)"
      ]
     },
     "execution_count": 13,
     "metadata": {},
     "output_type": "execute_result"
    }
   ],
   "source": [
    "diff(log(x), t, 2).subs(x==3)"
   ]
  },
  {
   "cell_type": "code",
   "execution_count": 15,
   "metadata": {},
   "outputs": [
    {
     "data": {
      "text/html": [
       "<html><script type=\"math/tex; mode=display\">\\newcommand{\\Bold}[1]{\\mathbf{#1}}-\\frac{1}{t^{2}}</script></html>"
      ],
      "text/plain": [
       "-1/t^2"
      ]
     },
     "execution_count": 15,
     "metadata": {},
     "output_type": "execute_result"
    }
   ],
   "source": [
    "diff(log(t), t, 2)"
   ]
  },
  {
   "cell_type": "code",
   "execution_count": 17,
   "metadata": {},
   "outputs": [
    {
     "name": "stdout",
     "output_type": "stream",
     "text": [
      "2/3\n",
      "-2/9\n",
      "4/27\n"
     ]
    }
   ],
   "source": [
    "print(diff(log(t^2),t,1).subs(t==3))\n",
    "print(diff(log(t^2),t,2).subs(t==3))\n",
    "print(diff(log(t^2),t,3).subs(t==3))"
   ]
  },
  {
   "cell_type": "code",
   "execution_count": 18,
   "metadata": {},
   "outputs": [
    {
     "data": {
      "text/html": [
       "<html><script type=\"math/tex; mode=display\">\\newcommand{\\Bold}[1]{\\mathbf{#1}}0.148148148148148</script></html>"
      ],
      "text/plain": [
       "0.148148148148148"
      ]
     },
     "execution_count": 18,
     "metadata": {},
     "output_type": "execute_result"
    }
   ],
   "source": [
    "numerical_approx(4/27)"
   ]
  },
  {
   "cell_type": "code",
   "execution_count": 20,
   "metadata": {},
   "outputs": [
    {
     "name": "stdout",
     "output_type": "stream",
     "text": [
      "0.288675134594813\n",
      "-0.0481125224324688\n",
      "0.0240562612162344\n"
     ]
    }
   ],
   "source": [
    "print(numerical_approx(diff(sqrt(t),t,1).subs(t==3)))\n",
    "print(numerical_approx(diff(sqrt(t),t,2).subs(t==3)))\n",
    "print(numerical_approx(diff(sqrt(t),t,3).subs(t==3)))"
   ]
  },
  {
   "cell_type": "code",
   "execution_count": 21,
   "metadata": {},
   "outputs": [
    {
     "name": "stdout",
     "output_type": "stream",
     "text": [
      "2.59807621135332\n",
      "0.433012701892219\n",
      "-0.0721687836487032\n"
     ]
    }
   ],
   "source": [
    "print(numerical_approx(diff(t^(1.5),t,1).subs(t==3)))\n",
    "print(numerical_approx(diff(t^(1.5),t,2).subs(t==3)))\n",
    "print(numerical_approx(diff(t^(1.5),t,3).subs(t==3)))"
   ]
  },
  {
   "cell_type": "code",
   "execution_count": null,
   "metadata": {},
   "outputs": [],
   "source": []
  }
 ],
 "metadata": {
  "kernelspec": {
   "display_name": "SageMath 9.1",
   "language": "sage",
   "name": "sagemath"
  },
  "language_info": {
   "codemirror_mode": {
    "name": "ipython",
    "version": 3
   },
   "file_extension": ".py",
   "mimetype": "text/x-python",
   "name": "python",
   "nbconvert_exporter": "python",
   "pygments_lexer": "ipython3",
   "version": "3.8.3"
  }
 },
 "nbformat": 4,
 "nbformat_minor": 4
}
