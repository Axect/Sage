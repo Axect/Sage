{
 "cells": [
  {
   "cell_type": "code",
   "execution_count": 1,
   "id": "2d0470cf",
   "metadata": {},
   "outputs": [],
   "source": [
    "%display latex"
   ]
  },
  {
   "cell_type": "code",
   "execution_count": 2,
   "id": "133eb3fa",
   "metadata": {},
   "outputs": [
    {
     "data": {
      "text/html": [
       "<html><script type=\"math/tex; mode=display\">\\newcommand{\\Bold}[1]{\\mathbf{#1}}\\left(x, m_{1}, m_{2}, s_{1}, s_{2}\\right)</script></html>"
      ],
      "text/latex": [
       "$$\\newcommand{\\Bold}[1]{\\mathbf{#1}}\\left(x, m_{1}, m_{2}, s_{1}, s_{2}\\right)$$"
      ],
      "text/plain": [
       "(x, m1, m2, s1, s2)"
      ]
     },
     "execution_count": 2,
     "metadata": {},
     "output_type": "execute_result"
    }
   ],
   "source": [
    "var('x m1 m2 s1 s2')"
   ]
  },
  {
   "cell_type": "code",
   "execution_count": 3,
   "id": "c10d0626",
   "metadata": {},
   "outputs": [
    {
     "data": {
      "text/html": [
       "<html><script type=\"math/tex; mode=display\">\\newcommand{\\Bold}[1]{\\mathbf{#1}}\\left[x = \\frac{m_{2} s_{1} - m_{1} s_{2}}{s_{1} - s_{2}}, x = \\frac{m_{2} s_{1} + m_{1} s_{2}}{s_{1} + s_{2}}\\right]</script></html>"
      ],
      "text/latex": [
       "$$\\newcommand{\\Bold}[1]{\\mathbf{#1}}\\left[x = \\frac{m_{2} s_{1} - m_{1} s_{2}}{s_{1} - s_{2}}, x = \\frac{m_{2} s_{1} + m_{1} s_{2}}{s_{1} + s_{2}}\\right]$$"
      ],
      "text/plain": [
       "[x == (m2*s1 - m1*s2)/(s1 - s2), x == (m2*s1 + m1*s2)/(s1 + s2)]"
      ]
     },
     "execution_count": 3,
     "metadata": {},
     "output_type": "execute_result"
    }
   ],
   "source": [
    "solve((x - m1)^2 / s1^2 == (x - m2)^2 / s2^2, x)"
   ]
  }
 ],
 "metadata": {
  "kernelspec": {
   "display_name": "SageMath 9.3",
   "language": "sage",
   "name": "sagemath"
  },
  "language_info": {
   "codemirror_mode": {
    "name": "ipython",
    "version": 3
   },
   "file_extension": ".py",
   "mimetype": "text/x-python",
   "name": "python",
   "nbconvert_exporter": "python",
   "pygments_lexer": "ipython3",
   "version": "3.9.5"
  }
 },
 "nbformat": 4,
 "nbformat_minor": 5
}
