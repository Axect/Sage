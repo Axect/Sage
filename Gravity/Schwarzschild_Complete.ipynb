{
 "cells": [
  {
   "cell_type": "markdown",
   "metadata": {},
   "source": [
    "# Schwarzschild Solution"
   ]
  },
  {
   "cell_type": "code",
   "execution_count": 1,
   "metadata": {},
   "outputs": [],
   "source": [
    "%display latex"
   ]
  },
  {
   "cell_type": "markdown",
   "metadata": {},
   "source": [
    "## 1. Derivation of Schwarzschild metric"
   ]
  },
  {
   "cell_type": "markdown",
   "metadata": {},
   "source": [
    "### 1-1. Define Manifold"
   ]
  },
  {
   "cell_type": "markdown",
   "metadata": {},
   "source": [
    "$$ \\large \\mathcal{M}: \\text{4-dimensional manifold}$$"
   ]
  },
  {
   "cell_type": "code",
   "execution_count": 2,
   "metadata": {},
   "outputs": [],
   "source": [
    "Man = Manifold(4, 'M', r'\\mathcal{M}')"
   ]
  },
  {
   "cell_type": "markdown",
   "metadata": {},
   "source": [
    "### 1-2. Define Spherical Coordinate (Chart)"
   ]
  },
  {
   "cell_type": "markdown",
   "metadata": {},
   "source": [
    "$$\\normalsize \\varphi(p) = (t(p),r(p),\\theta(p), \\phi(p)) \\text{ where } p\\in \\mathcal{M}$$\n",
    "\n",
    "* $\\varphi: \\mathcal{M} \\rightarrow \\mathbb{R}^4$\n",
    "    * $t: \\mathcal{M} \\rightarrow \\mathbb{R}$\n",
    "    * $r: \\mathcal{M} \\rightarrow \\mathbb{R}$\n",
    "    * $\\theta: \\mathcal{M} \\rightarrow \\mathbb{R}$\n",
    "    * $\\phi: \\mathcal{M} \\rightarrow \\mathbb{R}$\n",
    "* $(\\mathcal{M}, \\varphi)$ is chart of $\\mathcal{M}$"
   ]
  },
  {
   "cell_type": "code",
   "execution_count": 4,
   "metadata": {},
   "outputs": [],
   "source": [
    "Sp.<t,r,th,ph> = Man.chart(r't r:(0,+oo) th:(0,pi):\\theta ph:(0,2*pi):\\phi')"
   ]
  },
  {
   "cell_type": "code",
   "execution_count": 5,
   "metadata": {},
   "outputs": [
    {
     "data": {
      "text/html": [
       "<html><script type=\"math/tex; mode=display\">\\newcommand{\\Bold}[1]{\\mathbf{#1}}\\left(\\mathcal{M},(t, r, {\\theta}, {\\phi})\\right)</script></html>"
      ],
      "text/latex": [
       "$$\\newcommand{\\Bold}[1]{\\mathbf{#1}}\\left(\\mathcal{M},(t, r, {\\theta}, {\\phi})\\right)$$"
      ],
      "text/plain": [
       "Chart (M, (t, r, th, ph))"
      ]
     },
     "execution_count": 5,
     "metadata": {},
     "output_type": "execute_result"
    }
   ],
   "source": [
    "Sp"
   ]
  },
  {
   "cell_type": "markdown",
   "metadata": {},
   "source": [
    "### 1-3. Define Metric"
   ]
  },
  {
   "cell_type": "markdown",
   "metadata": {},
   "source": [
    "For spherical, static & non-rotating :\n",
    "\n",
    "$$ \\normalsize ds^2 = -A(r) dt^2 + B(r) dr^2 + r^2 d\\Omega^2$$"
   ]
  },
  {
   "cell_type": "code",
   "execution_count": 14,
   "metadata": {},
   "outputs": [
    {
     "data": {
      "text/html": [
       "<html><script type=\"math/tex; mode=display\">\\newcommand{\\Bold}[1]{\\mathbf{#1}}g = -A\\left(r\\right) \\mathrm{d} t\\otimes \\mathrm{d} t + B\\left(r\\right) \\mathrm{d} r\\otimes \\mathrm{d} r + r^{2} \\mathrm{d} {\\theta}\\otimes \\mathrm{d} {\\theta} + r^{2} \\sin\\left({\\theta}\\right)^{2} \\mathrm{d} {\\phi}\\otimes \\mathrm{d} {\\phi}</script></html>"
      ],
      "text/latex": [
       "$$\\newcommand{\\Bold}[1]{\\mathbf{#1}}g = -A\\left(r\\right) \\mathrm{d} t\\otimes \\mathrm{d} t + B\\left(r\\right) \\mathrm{d} r\\otimes \\mathrm{d} r + r^{2} \\mathrm{d} {\\theta}\\otimes \\mathrm{d} {\\theta} + r^{2} \\sin\\left({\\theta}\\right)^{2} \\mathrm{d} {\\phi}\\otimes \\mathrm{d} {\\phi}$$"
      ],
      "text/plain": [
       "g = -A(r) dt*dt + B(r) dr*dr + r^2 dth*dth + r^2*sin(th)^2 dph*dph"
      ]
     },
     "metadata": {},
     "output_type": "display_data"
    },
    {
     "data": {
      "text/html": [
       "<html><script type=\"math/tex; mode=display\">\\newcommand{\\Bold}[1]{\\mathbf{#1}}g^{-1} = -\\frac{1}{A\\left(r\\right)} \\frac{\\partial}{\\partial t }\\otimes \\frac{\\partial}{\\partial t } + \\frac{1}{B\\left(r\\right)} \\frac{\\partial}{\\partial r }\\otimes \\frac{\\partial}{\\partial r } + \\frac{1}{r^{2}} \\frac{\\partial}{\\partial {\\theta} }\\otimes \\frac{\\partial}{\\partial {\\theta} } + \\frac{1}{r^{2} \\sin\\left({\\theta}\\right)^{2}} \\frac{\\partial}{\\partial {\\phi} }\\otimes \\frac{\\partial}{\\partial {\\phi} }</script></html>"
      ],
      "text/latex": [
       "$$\\newcommand{\\Bold}[1]{\\mathbf{#1}}g^{-1} = -\\frac{1}{A\\left(r\\right)} \\frac{\\partial}{\\partial t }\\otimes \\frac{\\partial}{\\partial t } + \\frac{1}{B\\left(r\\right)} \\frac{\\partial}{\\partial r }\\otimes \\frac{\\partial}{\\partial r } + \\frac{1}{r^{2}} \\frac{\\partial}{\\partial {\\theta} }\\otimes \\frac{\\partial}{\\partial {\\theta} } + \\frac{1}{r^{2} \\sin\\left({\\theta}\\right)^{2}} \\frac{\\partial}{\\partial {\\phi} }\\otimes \\frac{\\partial}{\\partial {\\phi} }$$"
      ],
      "text/plain": [
       "inv_g = -1/A(r) d/dt*d/dt + 1/B(r) d/dr*d/dr + r^(-2) d/dth*d/dth + 1/(r^2*sin(th)^2) d/dph*d/dph"
      ]
     },
     "metadata": {},
     "output_type": "display_data"
    },
    {
     "data": {
      "text/html": [
       "<html><script type=\"math/tex; mode=display\">\\newcommand{\\Bold}[1]{\\mathbf{#1}}\\left(\\begin{array}{rrrr}\n",
       "-A\\left(r\\right) & 0 & 0 & 0 \\\\\n",
       "0 & B\\left(r\\right) & 0 & 0 \\\\\n",
       "0 & 0 & r^{2} & 0 \\\\\n",
       "0 & 0 & 0 & r^{2} \\sin\\left({\\theta}\\right)^{2}\n",
       "\\end{array}\\right)</script></html>"
      ],
      "text/latex": [
       "$$\\newcommand{\\Bold}[1]{\\mathbf{#1}}\\left(\\begin{array}{rrrr}\n",
       "-A\\left(r\\right) & 0 & 0 & 0 \\\\\n",
       "0 & B\\left(r\\right) & 0 & 0 \\\\\n",
       "0 & 0 & r^{2} & 0 \\\\\n",
       "0 & 0 & 0 & r^{2} \\sin\\left({\\theta}\\right)^{2}\n",
       "\\end{array}\\right)$$"
      ],
      "text/plain": [
       "[        -A(r)             0             0             0]\n",
       "[            0          B(r)             0             0]\n",
       "[            0             0           r^2             0]\n",
       "[            0             0             0 r^2*sin(th)^2]"
      ]
     },
     "metadata": {},
     "output_type": "display_data"
    },
    {
     "data": {
      "text/html": [
       "<html><script type=\"math/tex; mode=display\">\\newcommand{\\Bold}[1]{\\mathbf{#1}}\\left(\\begin{array}{rrrr}\n",
       "-\\frac{1}{A\\left(r\\right)} & 0 & 0 & 0 \\\\\n",
       "0 & \\frac{1}{B\\left(r\\right)} & 0 & 0 \\\\\n",
       "0 & 0 & \\frac{1}{r^{2}} & 0 \\\\\n",
       "0 & 0 & 0 & \\frac{1}{r^{2} \\sin\\left({\\theta}\\right)^{2}}\n",
       "\\end{array}\\right)</script></html>"
      ],
      "text/latex": [
       "$$\\newcommand{\\Bold}[1]{\\mathbf{#1}}\\left(\\begin{array}{rrrr}\n",
       "-\\frac{1}{A\\left(r\\right)} & 0 & 0 & 0 \\\\\n",
       "0 & \\frac{1}{B\\left(r\\right)} & 0 & 0 \\\\\n",
       "0 & 0 & \\frac{1}{r^{2}} & 0 \\\\\n",
       "0 & 0 & 0 & \\frac{1}{r^{2} \\sin\\left({\\theta}\\right)^{2}}\n",
       "\\end{array}\\right)$$"
      ],
      "text/plain": [
       "[          -1/A(r)                 0                 0                 0]\n",
       "[                0            1/B(r)                 0                 0]\n",
       "[                0                 0            r^(-2)                 0]\n",
       "[                0                 0                 0 1/(r^2*sin(th)^2)]"
      ]
     },
     "metadata": {},
     "output_type": "display_data"
    }
   ],
   "source": [
    "A = function('A')(r)\n",
    "B = function('B')(r)\n",
    "g = Man.lorentzian_metric('g')\n",
    "g[0,0] = -A(r)\n",
    "g[1,1] = B(r)\n",
    "g[2,2] = r^2\n",
    "g[3,3] = r^2*sin(th)^2\n",
    "show(g.display())\n",
    "show(g.inverse().display())\n",
    "show(g[:])\n",
    "show(g.inverse()[:])"
   ]
  },
  {
   "cell_type": "markdown",
   "metadata": {},
   "source": [
    "### 1-4. Calculate connection coefficients"
   ]
  },
  {
   "cell_type": "markdown",
   "metadata": {},
   "source": [
    "$$\\normalsize \\Gamma^\\mu_{\\nu\\rho} = \\frac{1}{2} g^{\\mu\\alpha}(g_{\\alpha\\nu,\\rho} + g_{\\alpha\\rho,\\nu} - g_{\\nu\\rho,\\alpha})$$"
   ]
  },
  {
   "cell_type": "code",
   "execution_count": 7,
   "metadata": {},
   "outputs": [
    {
     "data": {
      "text/html": [
       "<html><script type=\"math/tex; mode=display\">\\newcommand{\\Bold}[1]{\\mathbf{#1}}\\begin{array}{lcl} \\Gamma_{ \\phantom{\\, t} \\, t \\, r }^{ \\, t \\phantom{\\, t} \\phantom{\\, r} } & = & \\frac{\\frac{\\partial\\,A}{\\partial r}}{2 \\, A\\left(r\\right)} \\\\ \\Gamma_{ \\phantom{\\, r} \\, t \\, t }^{ \\, r \\phantom{\\, t} \\phantom{\\, t} } & = & \\frac{\\frac{\\partial\\,A}{\\partial r}}{2 \\, B\\left(r\\right)} \\\\ \\Gamma_{ \\phantom{\\, r} \\, r \\, r }^{ \\, r \\phantom{\\, r} \\phantom{\\, r} } & = & \\frac{\\frac{\\partial\\,B}{\\partial r}}{2 \\, B\\left(r\\right)} \\\\ \\Gamma_{ \\phantom{\\, r} \\, {\\theta} \\, {\\theta} }^{ \\, r \\phantom{\\, {\\theta}} \\phantom{\\, {\\theta}} } & = & -\\frac{r}{B\\left(r\\right)} \\\\ \\Gamma_{ \\phantom{\\, r} \\, {\\phi} \\, {\\phi} }^{ \\, r \\phantom{\\, {\\phi}} \\phantom{\\, {\\phi}} } & = & -\\frac{r \\sin\\left({\\theta}\\right)^{2}}{B\\left(r\\right)} \\\\ \\Gamma_{ \\phantom{\\, {\\theta}} \\, r \\, {\\theta} }^{ \\, {\\theta} \\phantom{\\, r} \\phantom{\\, {\\theta}} } & = & \\frac{1}{r} \\\\ \\Gamma_{ \\phantom{\\, {\\theta}} \\, {\\phi} \\, {\\phi} }^{ \\, {\\theta} \\phantom{\\, {\\phi}} \\phantom{\\, {\\phi}} } & = & -\\cos\\left({\\theta}\\right) \\sin\\left({\\theta}\\right) \\\\ \\Gamma_{ \\phantom{\\, {\\phi}} \\, r \\, {\\phi} }^{ \\, {\\phi} \\phantom{\\, r} \\phantom{\\, {\\phi}} } & = & \\frac{1}{r} \\\\ \\Gamma_{ \\phantom{\\, {\\phi}} \\, {\\theta} \\, {\\phi} }^{ \\, {\\phi} \\phantom{\\, {\\theta}} \\phantom{\\, {\\phi}} } & = & \\frac{\\cos\\left({\\theta}\\right)}{\\sin\\left({\\theta}\\right)} \\end{array}</script></html>"
      ],
      "text/latex": [
       "$$\\newcommand{\\Bold}[1]{\\mathbf{#1}}\\begin{array}{lcl} \\Gamma_{ \\phantom{\\, t} \\, t \\, r }^{ \\, t \\phantom{\\, t} \\phantom{\\, r} } & = & \\frac{\\frac{\\partial\\,A}{\\partial r}}{2 \\, A\\left(r\\right)} \\\\ \\Gamma_{ \\phantom{\\, r} \\, t \\, t }^{ \\, r \\phantom{\\, t} \\phantom{\\, t} } & = & \\frac{\\frac{\\partial\\,A}{\\partial r}}{2 \\, B\\left(r\\right)} \\\\ \\Gamma_{ \\phantom{\\, r} \\, r \\, r }^{ \\, r \\phantom{\\, r} \\phantom{\\, r} } & = & \\frac{\\frac{\\partial\\,B}{\\partial r}}{2 \\, B\\left(r\\right)} \\\\ \\Gamma_{ \\phantom{\\, r} \\, {\\theta} \\, {\\theta} }^{ \\, r \\phantom{\\, {\\theta}} \\phantom{\\, {\\theta}} } & = & -\\frac{r}{B\\left(r\\right)} \\\\ \\Gamma_{ \\phantom{\\, r} \\, {\\phi} \\, {\\phi} }^{ \\, r \\phantom{\\, {\\phi}} \\phantom{\\, {\\phi}} } & = & -\\frac{r \\sin\\left({\\theta}\\right)^{2}}{B\\left(r\\right)} \\\\ \\Gamma_{ \\phantom{\\, {\\theta}} \\, r \\, {\\theta} }^{ \\, {\\theta} \\phantom{\\, r} \\phantom{\\, {\\theta}} } & = & \\frac{1}{r} \\\\ \\Gamma_{ \\phantom{\\, {\\theta}} \\, {\\phi} \\, {\\phi} }^{ \\, {\\theta} \\phantom{\\, {\\phi}} \\phantom{\\, {\\phi}} } & = & -\\cos\\left({\\theta}\\right) \\sin\\left({\\theta}\\right) \\\\ \\Gamma_{ \\phantom{\\, {\\phi}} \\, r \\, {\\phi} }^{ \\, {\\phi} \\phantom{\\, r} \\phantom{\\, {\\phi}} } & = & \\frac{1}{r} \\\\ \\Gamma_{ \\phantom{\\, {\\phi}} \\, {\\theta} \\, {\\phi} }^{ \\, {\\phi} \\phantom{\\, {\\theta}} \\phantom{\\, {\\phi}} } & = & \\frac{\\cos\\left({\\theta}\\right)}{\\sin\\left({\\theta}\\right)} \\end{array}$$"
      ],
      "text/plain": [
       "Gam^t_t,r = 1/2*d(A)/dr/A(r) \n",
       "Gam^r_t,t = 1/2*d(A)/dr/B(r) \n",
       "Gam^r_r,r = 1/2*d(B)/dr/B(r) \n",
       "Gam^r_th,th = -r/B(r) \n",
       "Gam^r_ph,ph = -r*sin(th)^2/B(r) \n",
       "Gam^th_r,th = 1/r \n",
       "Gam^th_ph,ph = -cos(th)*sin(th) \n",
       "Gam^ph_r,ph = 1/r \n",
       "Gam^ph_th,ph = cos(th)/sin(th) "
      ]
     },
     "metadata": {},
     "output_type": "display_data"
    }
   ],
   "source": [
    "nab = g.connection()\n",
    "show(nab.display(only_nonredundant=true))"
   ]
  },
  {
   "cell_type": "markdown",
   "metadata": {},
   "source": [
    "### 1-5. Ricci tensor"
   ]
  },
  {
   "cell_type": "markdown",
   "metadata": {},
   "source": [
    "$$\\normalsize R_{\\mu\\nu} = {R^\\rho}_{\\mu\\rho\\nu} = \\partial_\\nu \\Gamma^\\rho_{\\mu\\rho} - \\partial_\\rho\\Gamma^\\rho_{\\mu\\nu} + \\Gamma^\\sigma_{\\mu\\rho}\\Gamma^\\rho_{\\nu\\sigma} - \\Gamma^\\sigma_{\\mu\\nu}\\Gamma^\\rho_{\\sigma\\rho}$$"
   ]
  },
  {
   "cell_type": "code",
   "execution_count": 15,
   "metadata": {},
   "outputs": [
    {
     "data": {
      "text/html": [
       "<html><script type=\"math/tex; mode=display\">\\newcommand{\\Bold}[1]{\\mathbf{#1}}\\mathrm{Ric}\\left(g\\right) = \\left( -\\frac{r B\\left(r\\right) \\left(\\frac{\\partial\\,A}{\\partial r}\\right)^{2} - 2 \\, r A\\left(r\\right) B\\left(r\\right) \\frac{\\partial^2\\,A}{\\partial r ^ 2} + r A\\left(r\\right) \\frac{\\partial\\,A}{\\partial r} \\frac{\\partial\\,B}{\\partial r} - 4 \\, A\\left(r\\right) B\\left(r\\right) \\frac{\\partial\\,A}{\\partial r}}{4 \\, r A\\left(r\\right) B\\left(r\\right)^{2}} \\right) \\mathrm{d} t\\otimes \\mathrm{d} t + \\left( \\frac{r B\\left(r\\right) \\left(\\frac{\\partial\\,A}{\\partial r}\\right)^{2} - 2 \\, r A\\left(r\\right) B\\left(r\\right) \\frac{\\partial^2\\,A}{\\partial r ^ 2} + {\\left(r A\\left(r\\right) \\frac{\\partial\\,A}{\\partial r} + 4 \\, A\\left(r\\right)^{2}\\right)} \\frac{\\partial\\,B}{\\partial r}}{4 \\, r A\\left(r\\right)^{2} B\\left(r\\right)} \\right) \\mathrm{d} r\\otimes \\mathrm{d} r + \\left( \\frac{2 \\, A\\left(r\\right) B\\left(r\\right)^{2} - r B\\left(r\\right) \\frac{\\partial\\,A}{\\partial r} + r A\\left(r\\right) \\frac{\\partial\\,B}{\\partial r} - 2 \\, A\\left(r\\right) B\\left(r\\right)}{2 \\, A\\left(r\\right) B\\left(r\\right)^{2}} \\right) \\mathrm{d} {\\theta}\\otimes \\mathrm{d} {\\theta} + \\frac{{\\left(2 \\, A\\left(r\\right) B\\left(r\\right)^{2} - r B\\left(r\\right) \\frac{\\partial\\,A}{\\partial r} + r A\\left(r\\right) \\frac{\\partial\\,B}{\\partial r} - 2 \\, A\\left(r\\right) B\\left(r\\right)\\right)} \\sin\\left({\\theta}\\right)^{2}}{2 \\, A\\left(r\\right) B\\left(r\\right)^{2}} \\mathrm{d} {\\phi}\\otimes \\mathrm{d} {\\phi}</script></html>"
      ],
      "text/latex": [
       "$$\\newcommand{\\Bold}[1]{\\mathbf{#1}}\\mathrm{Ric}\\left(g\\right) = \\left( -\\frac{r B\\left(r\\right) \\left(\\frac{\\partial\\,A}{\\partial r}\\right)^{2} - 2 \\, r A\\left(r\\right) B\\left(r\\right) \\frac{\\partial^2\\,A}{\\partial r ^ 2} + r A\\left(r\\right) \\frac{\\partial\\,A}{\\partial r} \\frac{\\partial\\,B}{\\partial r} - 4 \\, A\\left(r\\right) B\\left(r\\right) \\frac{\\partial\\,A}{\\partial r}}{4 \\, r A\\left(r\\right) B\\left(r\\right)^{2}} \\right) \\mathrm{d} t\\otimes \\mathrm{d} t + \\left( \\frac{r B\\left(r\\right) \\left(\\frac{\\partial\\,A}{\\partial r}\\right)^{2} - 2 \\, r A\\left(r\\right) B\\left(r\\right) \\frac{\\partial^2\\,A}{\\partial r ^ 2} + {\\left(r A\\left(r\\right) \\frac{\\partial\\,A}{\\partial r} + 4 \\, A\\left(r\\right)^{2}\\right)} \\frac{\\partial\\,B}{\\partial r}}{4 \\, r A\\left(r\\right)^{2} B\\left(r\\right)} \\right) \\mathrm{d} r\\otimes \\mathrm{d} r + \\left( \\frac{2 \\, A\\left(r\\right) B\\left(r\\right)^{2} - r B\\left(r\\right) \\frac{\\partial\\,A}{\\partial r} + r A\\left(r\\right) \\frac{\\partial\\,B}{\\partial r} - 2 \\, A\\left(r\\right) B\\left(r\\right)}{2 \\, A\\left(r\\right) B\\left(r\\right)^{2}} \\right) \\mathrm{d} {\\theta}\\otimes \\mathrm{d} {\\theta} + \\frac{{\\left(2 \\, A\\left(r\\right) B\\left(r\\right)^{2} - r B\\left(r\\right) \\frac{\\partial\\,A}{\\partial r} + r A\\left(r\\right) \\frac{\\partial\\,B}{\\partial r} - 2 \\, A\\left(r\\right) B\\left(r\\right)\\right)} \\sin\\left({\\theta}\\right)^{2}}{2 \\, A\\left(r\\right) B\\left(r\\right)^{2}} \\mathrm{d} {\\phi}\\otimes \\mathrm{d} {\\phi}$$"
      ],
      "text/plain": [
       "Ric(g) = -1/4*(r*B(r)*(d(A)/dr)^2 - 2*r*A(r)*B(r)*d^2(A)/dr^2 + r*A(r)*d(A)/dr*d(B)/dr - 4*A(r)*B(r)*d(A)/dr)/(r*A(r)*B(r)^2) dt*dt + 1/4*(r*B(r)*(d(A)/dr)^2 - 2*r*A(r)*B(r)*d^2(A)/dr^2 + (r*A(r)*d(A)/dr + 4*A(r)^2)*d(B)/dr)/(r*A(r)^2*B(r)) dr*dr + 1/2*(2*A(r)*B(r)^2 - r*B(r)*d(A)/dr + r*A(r)*d(B)/dr - 2*A(r)*B(r))/(A(r)*B(r)^2) dth*dth + 1/2*(2*A(r)*B(r)^2 - r*B(r)*d(A)/dr + r*A(r)*d(B)/dr - 2*A(r)*B(r))*sin(th)^2/(A(r)*B(r)^2) dph*dph"
      ]
     },
     "metadata": {},
     "output_type": "display_data"
    }
   ],
   "source": [
    "Ric = nab.ricci()\n",
    "show(Ric.display())"
   ]
  },
  {
   "cell_type": "markdown",
   "metadata": {},
   "source": [
    "### 1-6. Ricci scalar"
   ]
  },
  {
   "cell_type": "markdown",
   "metadata": {},
   "source": [
    "$$\\normalsize R = g^{ab}R_{ab}$$"
   ]
  },
  {
   "cell_type": "code",
   "execution_count": 16,
   "metadata": {},
   "outputs": [
    {
     "data": {
      "text/html": [
       "<html><script type=\"math/tex; mode=display\">\\newcommand{\\Bold}[1]{\\mathbf{#1}}\\begin{array}{llcl} \\mathrm{r}\\left(g\\right):& \\mathcal{M} & \\longrightarrow & \\mathbb{R} \\\\ & \\left(t, r, {\\theta}, {\\phi}\\right) & \\longmapsto & \\frac{r^{2} B\\left(r\\right) \\left(\\frac{\\partial\\,A}{\\partial r}\\right)^{2} - 2 \\, r^{2} A\\left(r\\right) B\\left(r\\right) \\frac{\\partial^2\\,A}{\\partial r ^ 2} + 4 \\, A\\left(r\\right)^{2} B\\left(r\\right)^{2} - 4 \\, r A\\left(r\\right) B\\left(r\\right) \\frac{\\partial\\,A}{\\partial r} - 4 \\, A\\left(r\\right)^{2} B\\left(r\\right) + {\\left(r^{2} A\\left(r\\right) \\frac{\\partial\\,A}{\\partial r} + 4 \\, r A\\left(r\\right)^{2}\\right)} \\frac{\\partial\\,B}{\\partial r}}{2 \\, r^{2} A\\left(r\\right)^{2} B\\left(r\\right)^{2}} \\end{array}</script></html>"
      ],
      "text/latex": [
       "$$\\newcommand{\\Bold}[1]{\\mathbf{#1}}\\begin{array}{llcl} \\mathrm{r}\\left(g\\right):& \\mathcal{M} & \\longrightarrow & \\mathbb{R} \\\\ & \\left(t, r, {\\theta}, {\\phi}\\right) & \\longmapsto & \\frac{r^{2} B\\left(r\\right) \\left(\\frac{\\partial\\,A}{\\partial r}\\right)^{2} - 2 \\, r^{2} A\\left(r\\right) B\\left(r\\right) \\frac{\\partial^2\\,A}{\\partial r ^ 2} + 4 \\, A\\left(r\\right)^{2} B\\left(r\\right)^{2} - 4 \\, r A\\left(r\\right) B\\left(r\\right) \\frac{\\partial\\,A}{\\partial r} - 4 \\, A\\left(r\\right)^{2} B\\left(r\\right) + {\\left(r^{2} A\\left(r\\right) \\frac{\\partial\\,A}{\\partial r} + 4 \\, r A\\left(r\\right)^{2}\\right)} \\frac{\\partial\\,B}{\\partial r}}{2 \\, r^{2} A\\left(r\\right)^{2} B\\left(r\\right)^{2}} \\end{array}$$"
      ],
      "text/plain": [
       "R: M --> R\n",
       "   (t, r, th, ph) |--> 1/2*(r^2*B(r)*(d(A)/dr)^2 - 2*r^2*A(r)*B(r)*d^2(A)/dr^2 + 4*A(r)^2*B(r)^2 - 4*r*A(r)*B(r)*d(A)/dr - 4*A(r)^2*B(r) + (r^2*A(r)*d(A)/dr + 4*r*A(r)^2)*d(B)/dr)/(r^2*A(r)^2*B(r)^2)"
      ]
     },
     "metadata": {},
     "output_type": "display_data"
    }
   ],
   "source": [
    "R = g.ricci_scalar('R')\n",
    "show(R.display())"
   ]
  },
  {
   "cell_type": "markdown",
   "metadata": {},
   "source": [
    "### 1-7. Einstein tensor"
   ]
  },
  {
   "cell_type": "code",
   "execution_count": 17,
   "metadata": {},
   "outputs": [
    {
     "data": {
      "text/html": [
       "<html><script type=\"math/tex; mode=display\">\\newcommand{\\Bold}[1]{\\mathbf{#1}}G_{\\mu\\nu} = \\left( \\frac{A\\left(r\\right) B\\left(r\\right)^{2} + r A\\left(r\\right) \\frac{\\partial\\,B}{\\partial r} - A\\left(r\\right) B\\left(r\\right)}{r^{2} B\\left(r\\right)^{2}} \\right) \\mathrm{d} t\\otimes \\mathrm{d} t + \\left( -\\frac{A\\left(r\\right) B\\left(r\\right) - r \\frac{\\partial\\,A}{\\partial r} - A\\left(r\\right)}{r^{2} A\\left(r\\right)} \\right) \\mathrm{d} r\\otimes \\mathrm{d} r + \\left( -\\frac{r^{2} B\\left(r\\right) \\left(\\frac{\\partial\\,A}{\\partial r}\\right)^{2} - 2 \\, r^{2} A\\left(r\\right) B\\left(r\\right) \\frac{\\partial^2\\,A}{\\partial r ^ 2} - 2 \\, r A\\left(r\\right) B\\left(r\\right) \\frac{\\partial\\,A}{\\partial r} + {\\left(r^{2} A\\left(r\\right) \\frac{\\partial\\,A}{\\partial r} + 2 \\, r A\\left(r\\right)^{2}\\right)} \\frac{\\partial\\,B}{\\partial r}}{4 \\, A\\left(r\\right)^{2} B\\left(r\\right)^{2}} \\right) \\mathrm{d} {\\theta}\\otimes \\mathrm{d} {\\theta} -\\frac{{\\left(r^{2} B\\left(r\\right) \\left(\\frac{\\partial\\,A}{\\partial r}\\right)^{2} - 2 \\, r^{2} A\\left(r\\right) B\\left(r\\right) \\frac{\\partial^2\\,A}{\\partial r ^ 2} - 2 \\, r A\\left(r\\right) B\\left(r\\right) \\frac{\\partial\\,A}{\\partial r} + {\\left(r^{2} A\\left(r\\right) \\frac{\\partial\\,A}{\\partial r} + 2 \\, r A\\left(r\\right)^{2}\\right)} \\frac{\\partial\\,B}{\\partial r}\\right)} \\sin\\left({\\theta}\\right)^{2}}{4 \\, A\\left(r\\right)^{2} B\\left(r\\right)^{2}} \\mathrm{d} {\\phi}\\otimes \\mathrm{d} {\\phi}</script></html>"
      ],
      "text/latex": [
       "$$\\newcommand{\\Bold}[1]{\\mathbf{#1}}G_{\\mu\\nu} = \\left( \\frac{A\\left(r\\right) B\\left(r\\right)^{2} + r A\\left(r\\right) \\frac{\\partial\\,B}{\\partial r} - A\\left(r\\right) B\\left(r\\right)}{r^{2} B\\left(r\\right)^{2}} \\right) \\mathrm{d} t\\otimes \\mathrm{d} t + \\left( -\\frac{A\\left(r\\right) B\\left(r\\right) - r \\frac{\\partial\\,A}{\\partial r} - A\\left(r\\right)}{r^{2} A\\left(r\\right)} \\right) \\mathrm{d} r\\otimes \\mathrm{d} r + \\left( -\\frac{r^{2} B\\left(r\\right) \\left(\\frac{\\partial\\,A}{\\partial r}\\right)^{2} - 2 \\, r^{2} A\\left(r\\right) B\\left(r\\right) \\frac{\\partial^2\\,A}{\\partial r ^ 2} - 2 \\, r A\\left(r\\right) B\\left(r\\right) \\frac{\\partial\\,A}{\\partial r} + {\\left(r^{2} A\\left(r\\right) \\frac{\\partial\\,A}{\\partial r} + 2 \\, r A\\left(r\\right)^{2}\\right)} \\frac{\\partial\\,B}{\\partial r}}{4 \\, A\\left(r\\right)^{2} B\\left(r\\right)^{2}} \\right) \\mathrm{d} {\\theta}\\otimes \\mathrm{d} {\\theta} -\\frac{{\\left(r^{2} B\\left(r\\right) \\left(\\frac{\\partial\\,A}{\\partial r}\\right)^{2} - 2 \\, r^{2} A\\left(r\\right) B\\left(r\\right) \\frac{\\partial^2\\,A}{\\partial r ^ 2} - 2 \\, r A\\left(r\\right) B\\left(r\\right) \\frac{\\partial\\,A}{\\partial r} + {\\left(r^{2} A\\left(r\\right) \\frac{\\partial\\,A}{\\partial r} + 2 \\, r A\\left(r\\right)^{2}\\right)} \\frac{\\partial\\,B}{\\partial r}\\right)} \\sin\\left({\\theta}\\right)^{2}}{4 \\, A\\left(r\\right)^{2} B\\left(r\\right)^{2}} \\mathrm{d} {\\phi}\\otimes \\mathrm{d} {\\phi}$$"
      ],
      "text/plain": [
       "G_{\\mu\\nu} = (A(r)*B(r)^2 + r*A(r)*d(B)/dr - A(r)*B(r))/(r^2*B(r)^2) dt*dt - (A(r)*B(r) - r*d(A)/dr - A(r))/(r^2*A(r)) dr*dr - 1/4*(r^2*B(r)*(d(A)/dr)^2 - 2*r^2*A(r)*B(r)*d^2(A)/dr^2 - 2*r*A(r)*B(r)*d(A)/dr + (r^2*A(r)*d(A)/dr + 2*r*A(r)^2)*d(B)/dr)/(A(r)^2*B(r)^2) dth*dth - 1/4*(r^2*B(r)*(d(A)/dr)^2 - 2*r^2*A(r)*B(r)*d^2(A)/dr^2 - 2*r*A(r)*B(r)*d(A)/dr + (r^2*A(r)*d(A)/dr + 2*r*A(r)^2)*d(B)/dr)*sin(th)^2/(A(r)^2*B(r)^2) dph*dph"
      ]
     },
     "metadata": {},
     "output_type": "display_data"
    }
   ],
   "source": [
    "ET = Ric - 1/2*g*R\n",
    "ET.set_name(r'G_{\\mu\\nu}')\n",
    "show(ET.display())"
   ]
  },
  {
   "cell_type": "code",
   "execution_count": 20,
   "metadata": {},
   "outputs": [
    {
     "data": {
      "text/html": [
       "<html><script type=\"math/tex; mode=display\">\\newcommand{\\Bold}[1]{\\mathbf{#1}}\\frac{\\frac{\\partial}{\\partial r}A\\left(r\\right)}{2 \\, B\\left(r\\right)} = 0</script></html>"
      ],
      "text/latex": [
       "$$\\newcommand{\\Bold}[1]{\\mathbf{#1}}\\frac{\\frac{\\partial}{\\partial r}A\\left(r\\right)}{2 \\, B\\left(r\\right)} = 0$$"
      ],
      "text/plain": [
       "1/2*diff(A(r), r)/B(r) == 0"
      ]
     },
     "metadata": {},
     "output_type": "display_data"
    }
   ],
   "source": [
    "#Geodesic equation\n",
    "L = len(Sp[:])\n",
    "Geod = 0\n",
    "for mu in range(L):\n",
    "    for nu in range(L):\n",
    "        for sig in range(L):\n",
    "            Geod += nab[mu, nu, sig]*diff(Sp[nu], t)*diff(Sp[sig], t)\n",
    "    Geod += diff(diff(Sp[mu], t), t)\n",
    "show(Geod.expr() == 0)"
   ]
  },
  {
   "cell_type": "code",
   "execution_count": 41,
   "metadata": {},
   "outputs": [
    {
     "data": {
      "text/html": [
       "<html><script type=\"math/tex; mode=display\">\\newcommand{\\Bold}[1]{\\mathbf{#1}}B\\left(r\\right)^{2} + r \\frac{\\partial}{\\partial r}B\\left(r\\right) - B\\left(r\\right) = 0</script></html>"
      ],
      "text/latex": [
       "$$\\newcommand{\\Bold}[1]{\\mathbf{#1}}B\\left(r\\right)^{2} + r \\frac{\\partial}{\\partial r}B\\left(r\\right) - B\\left(r\\right) = 0$$"
      ],
      "text/plain": [
       "B(r)^2 + r*diff(B(r), r) - B(r) == 0"
      ]
     },
     "metadata": {},
     "output_type": "display_data"
    },
    {
     "data": {
      "text/html": [
       "<html><script type=\"math/tex; mode=display\">\\newcommand{\\Bold}[1]{\\mathbf{#1}}-A\\left(r\\right) B\\left(r\\right) + r \\frac{\\partial}{\\partial r}A\\left(r\\right) + A\\left(r\\right) = 0</script></html>"
      ],
      "text/latex": [
       "$$\\newcommand{\\Bold}[1]{\\mathbf{#1}}-A\\left(r\\right) B\\left(r\\right) + r \\frac{\\partial}{\\partial r}A\\left(r\\right) + A\\left(r\\right) = 0$$"
      ],
      "text/plain": [
       "-A(r)*B(r) + r*diff(A(r), r) + A(r) == 0"
      ]
     },
     "metadata": {},
     "output_type": "display_data"
    }
   ],
   "source": [
    "# Einstein Equation for empty space\n",
    "show(((ET[0,0].expr()).numerator() / A(r)).simplify_full() == 0)\n",
    "show(ET[1,1].expr().numerator() == 0)"
   ]
  },
  {
   "cell_type": "markdown",
   "metadata": {},
   "source": [
    "Solve above equations\n",
    "\n",
    "$$\n",
    "\\begin{gathered}\n",
    "B^2 + r\\frac{\\partial B}{\\partial r} - B = 0 ~\\Rightarrow~1 + \\frac{r}{B^2}\\frac{\\partial B}{\\partial r} - \\frac{1}{B} = 0 ~\\Rightarrow~ - \\frac{\\partial}{\\partial r} \\left( \\frac{r}{B}\\right) = 0 \\\\\n",
    "\\therefore~\\frac{\\partial}{\\partial r} \\left( \\frac{r}{B}\\right) = 1 ~\\Rightarrow~ B(r) = \\frac{1}{1+\\frac{k}{r}}\n",
    "\\end{gathered}\n",
    "$$\n",
    "\n",
    "$$\n",
    "\\begin{gathered}\n",
    "-AB + r\\frac{\\partial A}{\\partial r} + A = 0 ~\\Rightarrow~ -AB + \\frac{\\partial}{\\partial r}\\left(rA\\right) = 0 \\\\\n",
    "\\therefore~\\frac{\\partial}{\\partial r} \\left(rA\\right) = AB\n",
    "\\end{gathered}\n",
    "$$"
   ]
  },
  {
   "cell_type": "markdown",
   "metadata": {},
   "source": [
    "Now we use substitutions\n",
    "\n",
    "$$p(r) \\equiv rA(r),\\quad q(r) = \\frac{r}{B}$$\n",
    "\n",
    "Then we can get\n",
    "\n",
    "$$\n",
    "\\begin{aligned}\n",
    "&\\frac{\\partial p}{\\partial r} = \\frac{p}{q},~\\frac{\\partial q}{\\partial r} = 1 \\\\\n",
    "\\Rightarrow ~&\\frac{\\partial^2 p}{\\partial r^2} = \\frac{1}{q}\\frac{\\partial p}{\\partial r} - \\frac{p}{q^2}\\frac{\\partial q}{\\partial r} = \\frac{p}{q^2} - \\frac{p}{q^2} = 0 \\\\\n",
    "\\therefore ~&\\frac{q}{p} = const = AB\n",
    "\\end{aligned}\n",
    "$$"
   ]
  },
  {
   "cell_type": "code",
   "execution_count": null,
   "metadata": {},
   "outputs": [],
   "source": []
  }
 ],
 "metadata": {
  "kernelspec": {
   "display_name": "SageMath 9.3",
   "language": "sage",
   "name": "sagemath"
  },
  "language_info": {
   "codemirror_mode": {
    "name": "ipython",
    "version": 3
   },
   "file_extension": ".py",
   "mimetype": "text/x-python",
   "name": "python",
   "nbconvert_exporter": "python",
   "pygments_lexer": "ipython3",
   "version": "3.9.5"
  }
 },
 "nbformat": 4,
 "nbformat_minor": 2
}
