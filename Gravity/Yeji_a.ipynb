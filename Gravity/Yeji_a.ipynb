{
 "cells": [
  {
   "cell_type": "markdown",
   "metadata": {},
   "source": [
    "<h1 style=\"text-align:center\">For Yeji</h1>"
   ]
  },
  {
   "cell_type": "code",
   "execution_count": 1,
   "metadata": {},
   "outputs": [],
   "source": [
    "%display latex"
   ]
  },
  {
   "cell_type": "code",
   "execution_count": 2,
   "metadata": {},
   "outputs": [],
   "source": [
    "# Declare manifold\n",
    "M = Manifold(3, 'M', '\\mathcal{M}')\n",
    "\n",
    "# Define chart & range\n",
    "frame.<ta,ch,th> = M.chart(r'ta:[0,+oo):\\tau ch:[0,pi]:\\chi th:[0,2*pi]:\\theta')"
   ]
  },
  {
   "cell_type": "code",
   "execution_count": 3,
   "metadata": {},
   "outputs": [
    {
     "data": {
      "text/html": [
       "<html><script type=\"math/tex; mode=display\">\\newcommand{\\Bold}[1]{\\mathbf{#1}}\\left(\\mathcal{M},({\\tau}, {\\chi}, {\\theta})\\right)</script></html>"
      ],
      "text/plain": [
       "Chart (M, (ta, ch, th))"
      ]
     },
     "metadata": {},
     "output_type": "display_data"
    }
   ],
   "source": [
    "show(frame)"
   ]
  },
  {
   "cell_type": "code",
   "execution_count": 4,
   "metadata": {},
   "outputs": [],
   "source": [
    "# Define Metric\n",
    "g = M.lorentzian_metric('g')\n",
    "g[0,0] = -1\n",
    "g[1,1] = 1\n",
    "g[2,2] = sin(ch)^2"
   ]
  },
  {
   "cell_type": "code",
   "execution_count": 5,
   "metadata": {},
   "outputs": [
    {
     "data": {
      "text/html": [
       "<html><script type=\"math/tex; mode=display\">\\newcommand{\\Bold}[1]{\\mathbf{#1}}g = -\\mathrm{d} {\\tau}\\otimes \\mathrm{d} {\\tau}+\\mathrm{d} {\\chi}\\otimes \\mathrm{d} {\\chi} + \\sin\\left({\\chi}\\right)^{2} \\mathrm{d} {\\theta}\\otimes \\mathrm{d} {\\theta}</script></html>"
      ],
      "text/plain": [
       "g = -dta*dta + dch*dch + sin(ch)^2 dth*dth"
      ]
     },
     "execution_count": 5,
     "metadata": {},
     "output_type": "execute_result"
    }
   ],
   "source": [
    "g.display()"
   ]
  },
  {
   "cell_type": "code",
   "execution_count": 6,
   "metadata": {},
   "outputs": [
    {
     "data": {
      "text/html": [
       "<html><script type=\"math/tex; mode=display\">\\newcommand{\\Bold}[1]{\\mathbf{#1}}\\left(\\begin{array}{rrr}\n",
       "-1 & 0 & 0 \\\\\n",
       "0 & 1 & 0 \\\\\n",
       "0 & 0 & \\sin\\left({\\chi}\\right)^{2}\n",
       "\\end{array}\\right)</script></html>"
      ],
      "text/plain": [
       "[       -1         0         0]\n",
       "[        0         1         0]\n",
       "[        0         0 sin(ch)^2]"
      ]
     },
     "execution_count": 6,
     "metadata": {},
     "output_type": "execute_result"
    }
   ],
   "source": [
    "g[:]"
   ]
  },
  {
   "cell_type": "code",
   "execution_count": 7,
   "metadata": {},
   "outputs": [
    {
     "data": {
      "text/html": [
       "<html><script type=\"math/tex; mode=display\">\\newcommand{\\Bold}[1]{\\mathbf{#1}}\\begin{array}{lcl} \\Gamma_{ \\phantom{\\, {\\chi}} \\, {\\theta} \\, {\\theta} }^{ \\, {\\chi} \\phantom{\\, {\\theta}} \\phantom{\\, {\\theta}} } & = & -\\cos\\left({\\chi}\\right) \\sin\\left({\\chi}\\right) \\\\ \\Gamma_{ \\phantom{\\, {\\theta}} \\, {\\chi} \\, {\\theta} }^{ \\, {\\theta} \\phantom{\\, {\\chi}} \\phantom{\\, {\\theta}} } & = & \\frac{\\cos\\left({\\chi}\\right)}{\\sin\\left({\\chi}\\right)} \\end{array}</script></html>"
      ],
      "text/plain": [
       "Gam^ch_th,th = -cos(ch)*sin(ch) \n",
       "Gam^th_ch,th = cos(ch)/sin(ch) "
      ]
     },
     "execution_count": 7,
     "metadata": {},
     "output_type": "execute_result"
    }
   ],
   "source": [
    "nab = g.connection()\n",
    "nab.display(only_nonredundant=true)"
   ]
  },
  {
   "cell_type": "code",
   "execution_count": 8,
   "metadata": {},
   "outputs": [],
   "source": [
    "ric = nab.ricci()"
   ]
  },
  {
   "cell_type": "code",
   "execution_count": 9,
   "metadata": {},
   "outputs": [
    {
     "data": {
      "text/html": [
       "<html><script type=\"math/tex; mode=display\">\\newcommand{\\Bold}[1]{\\mathbf{#1}}\\mathrm{Ric}\\left(g\\right) = \\mathrm{d} {\\chi}\\otimes \\mathrm{d} {\\chi} + \\sin\\left({\\chi}\\right)^{2} \\mathrm{d} {\\theta}\\otimes \\mathrm{d} {\\theta}</script></html>"
      ],
      "text/plain": [
       "Ric(g) = dch*dch + sin(ch)^2 dth*dth"
      ]
     },
     "execution_count": 9,
     "metadata": {},
     "output_type": "execute_result"
    }
   ],
   "source": [
    "ric.display()"
   ]
  },
  {
   "cell_type": "code",
   "execution_count": 10,
   "metadata": {},
   "outputs": [
    {
     "data": {
      "text/html": [
       "<html><script type=\"math/tex; mode=display\">\\newcommand{\\Bold}[1]{\\mathbf{#1}}\\left(\\begin{array}{rrr}\n",
       "0 & 0 & 0 \\\\\n",
       "0 & 1 & 0 \\\\\n",
       "0 & 0 & \\sin\\left({\\chi}\\right)^{2}\n",
       "\\end{array}\\right)</script></html>"
      ],
      "text/plain": [
       "[        0         0         0]\n",
       "[        0         1         0]\n",
       "[        0         0 sin(ch)^2]"
      ]
     },
     "execution_count": 10,
     "metadata": {},
     "output_type": "execute_result"
    }
   ],
   "source": [
    "ric[:]"
   ]
  },
  {
   "cell_type": "code",
   "execution_count": 11,
   "metadata": {},
   "outputs": [],
   "source": [
    "R = g.inverse()['^ab']*ric['_ab']"
   ]
  },
  {
   "cell_type": "code",
   "execution_count": 12,
   "metadata": {},
   "outputs": [
    {
     "data": {
      "text/html": [
       "<html><script type=\"math/tex; mode=display\">\\newcommand{\\Bold}[1]{\\mathbf{#1}}\\begin{array}{llcl} & \\mathcal{M} & \\longrightarrow & \\mathbb{R} \\\\ & \\left({\\tau}, {\\chi}, {\\theta}\\right) & \\longmapsto & 2 \\end{array}</script></html>"
      ],
      "text/plain": [
       "M --> R\n",
       "(ta, ch, th) |--> 2"
      ]
     },
     "execution_count": 12,
     "metadata": {},
     "output_type": "execute_result"
    }
   ],
   "source": [
    "R.display()"
   ]
  },
  {
   "cell_type": "code",
   "execution_count": 13,
   "metadata": {},
   "outputs": [],
   "source": [
    "riem = nab.riemann()"
   ]
  },
  {
   "cell_type": "code",
   "execution_count": 14,
   "metadata": {},
   "outputs": [
    {
     "data": {
      "text/html": [
       "<html><script type=\"math/tex; mode=display\">\\newcommand{\\Bold}[1]{\\mathbf{#1}}\\mathrm{Riem}\\left(g\\right) = \\sin\\left({\\chi}\\right)^{2} \\frac{\\partial}{\\partial {\\chi} }\\otimes \\mathrm{d} {\\theta}\\otimes \\mathrm{d} {\\chi}\\otimes \\mathrm{d} {\\theta} -\\sin\\left({\\chi}\\right)^{2} \\frac{\\partial}{\\partial {\\chi} }\\otimes \\mathrm{d} {\\theta}\\otimes \\mathrm{d} {\\theta}\\otimes \\mathrm{d} {\\chi} -\\frac{\\partial}{\\partial {\\theta} }\\otimes \\mathrm{d} {\\chi}\\otimes \\mathrm{d} {\\chi}\\otimes \\mathrm{d} {\\theta} +\\frac{\\partial}{\\partial {\\theta} }\\otimes \\mathrm{d} {\\chi}\\otimes \\mathrm{d} {\\theta}\\otimes \\mathrm{d} {\\chi}</script></html>"
      ],
      "text/plain": [
       "Riem(g) = sin(ch)^2 d/dch*dth*dch*dth - sin(ch)^2 d/dch*dth*dth*dch - d/dth*dch*dch*dth + d/dth*dch*dth*dch"
      ]
     },
     "execution_count": 14,
     "metadata": {},
     "output_type": "execute_result"
    }
   ],
   "source": [
    "riem.display()"
   ]
  }
 ],
 "metadata": {
  "kernelspec": {
   "display_name": "SageMath 8.4",
   "language": "",
   "name": "sagemath"
  },
  "language_info": {
   "codemirror_mode": {
    "name": "ipython",
    "version": 2
   },
   "file_extension": ".py",
   "mimetype": "text/x-python",
   "name": "python",
   "nbconvert_exporter": "python",
   "pygments_lexer": "ipython2",
   "version": "2.7.15"
  }
 },
 "nbformat": 4,
 "nbformat_minor": 2
}
