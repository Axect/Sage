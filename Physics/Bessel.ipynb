{
 "cells": [
  {
   "cell_type": "markdown",
   "metadata": {},
   "source": [
    "# Rayleigh Formula"
   ]
  },
  {
   "cell_type": "markdown",
   "metadata": {},
   "source": [
    "\\begin{align}\n",
    "    j_n(x) &= (-1)^n x^n \\left(\\frac{1}{x} \\frac{d}{dx}\\right)^n \\left( \\frac{\\sin x}{x}\\right) \\\\\n",
    "    y_n(x) &= (-1)^n x^n \\left(\\frac{1}{x} \\frac{d}{dx}\\right)^n \\left( \\frac{\\cos x}{x}\\right) \n",
    "\\end{align}"
   ]
  },
  {
   "cell_type": "code",
   "execution_count": 1,
   "metadata": {},
   "outputs": [],
   "source": [
    "%display latex"
   ]
  },
  {
   "cell_type": "code",
   "execution_count": 2,
   "metadata": {},
   "outputs": [],
   "source": [
    "def j(n, x):\n",
    "    s = (sin(x)) / x\n",
    "    for i in range(n):\n",
    "        s = diff(s, x) / x\n",
    "    return (-1)**n * x**n * s"
   ]
  },
  {
   "cell_type": "code",
   "execution_count": 3,
   "metadata": {},
   "outputs": [
    {
     "data": {
      "text/html": [
       "<html><script type=\"math/tex; mode=display\">\\newcommand{\\Bold}[1]{\\mathbf{#1}}\\frac{\\sin\\left(x\\right)}{x}</script></html>"
      ],
      "text/plain": [
       "sin(x)/x"
      ]
     },
     "execution_count": 3,
     "metadata": {},
     "output_type": "execute_result"
    }
   ],
   "source": [
    "j(0, x)"
   ]
  },
  {
   "cell_type": "code",
   "execution_count": 4,
   "metadata": {},
   "outputs": [
    {
     "data": {
      "text/html": [
       "<html><script type=\"math/tex; mode=display\">\\newcommand{\\Bold}[1]{\\mathbf{#1}}-\\frac{x \\cos\\left(x\\right) - \\sin\\left(x\\right)}{x^{2}}</script></html>"
      ],
      "text/plain": [
       "-(x*cos(x) - sin(x))/x^2"
      ]
     },
     "execution_count": 4,
     "metadata": {},
     "output_type": "execute_result"
    }
   ],
   "source": [
    "j(1, x).simplify_full()"
   ]
  },
  {
   "cell_type": "code",
   "execution_count": 5,
   "metadata": {},
   "outputs": [
    {
     "data": {
      "text/html": [
       "<html><script type=\"math/tex; mode=display\">\\newcommand{\\Bold}[1]{\\mathbf{#1}}-\\frac{3 \\, x \\cos\\left(x\\right) + {\\left(x^{2} - 3\\right)} \\sin\\left(x\\right)}{x^{3}}</script></html>"
      ],
      "text/plain": [
       "-(3*x*cos(x) + (x^2 - 3)*sin(x))/x^3"
      ]
     },
     "execution_count": 5,
     "metadata": {},
     "output_type": "execute_result"
    }
   ],
   "source": [
    "j(2, x).simplify_full()"
   ]
  },
  {
   "cell_type": "code",
   "execution_count": 6,
   "metadata": {},
   "outputs": [],
   "source": [
    "def y(n, x):\n",
    "    s = (cos(x)) / x\n",
    "    for i in range(n):\n",
    "        s = diff(s, x) / x\n",
    "    return (-1)**n * x**n * s"
   ]
  },
  {
   "cell_type": "code",
   "execution_count": 7,
   "metadata": {},
   "outputs": [
    {
     "data": {
      "text/html": [
       "<html><script type=\"math/tex; mode=display\">\\newcommand{\\Bold}[1]{\\mathbf{#1}}\\frac{\\cos\\left(x\\right)}{x}</script></html>"
      ],
      "text/plain": [
       "cos(x)/x"
      ]
     },
     "execution_count": 7,
     "metadata": {},
     "output_type": "execute_result"
    }
   ],
   "source": [
    "y(0, x)"
   ]
  },
  {
   "cell_type": "code",
   "execution_count": 8,
   "metadata": {},
   "outputs": [
    {
     "data": {
      "text/html": [
       "<html><script type=\"math/tex; mode=display\">\\newcommand{\\Bold}[1]{\\mathbf{#1}}\\frac{x \\sin\\left(x\\right) + \\cos\\left(x\\right)}{x^{2}}</script></html>"
      ],
      "text/plain": [
       "(x*sin(x) + cos(x))/x^2"
      ]
     },
     "execution_count": 8,
     "metadata": {},
     "output_type": "execute_result"
    }
   ],
   "source": [
    "y(1, x).simplify_full()"
   ]
  },
  {
   "cell_type": "code",
   "execution_count": 9,
   "metadata": {},
   "outputs": [
    {
     "data": {
      "text/html": [
       "<html><script type=\"math/tex; mode=display\">\\newcommand{\\Bold}[1]{\\mathbf{#1}}-\\frac{{\\left(x^{2} - 3\\right)} \\cos\\left(x\\right) - 3 \\, x \\sin\\left(x\\right)}{x^{3}}</script></html>"
      ],
      "text/plain": [
       "-((x^2 - 3)*cos(x) - 3*x*sin(x))/x^3"
      ]
     },
     "execution_count": 9,
     "metadata": {},
     "output_type": "execute_result"
    }
   ],
   "source": [
    "y(2, x).simplify_full()"
   ]
  }
 ],
 "metadata": {
  "kernelspec": {
   "display_name": "SageMath 9.1",
   "language": "sage",
   "name": "sagemath"
  },
  "language_info": {
   "codemirror_mode": {
    "name": "ipython",
    "version": 3
   },
   "file_extension": ".py",
   "mimetype": "text/x-python",
   "name": "python",
   "nbconvert_exporter": "python",
   "pygments_lexer": "ipython3",
   "version": "3.8.6"
  }
 },
 "nbformat": 4,
 "nbformat_minor": 4
}
