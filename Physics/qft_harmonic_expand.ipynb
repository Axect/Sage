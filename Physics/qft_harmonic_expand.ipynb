{
 "cells": [
  {
   "cell_type": "markdown",
   "metadata": {},
   "source": [
    "# Expansion"
   ]
  },
  {
   "cell_type": "code",
   "execution_count": 1,
   "metadata": {},
   "outputs": [],
   "source": [
    "%display latex"
   ]
  },
  {
   "cell_type": "code",
   "execution_count": 2,
   "metadata": {},
   "outputs": [
    {
     "data": {
      "text/html": [
       "<html><script type=\"math/tex; mode=display\">\\newcommand{\\Bold}[1]{\\mathbf{#1}}\\left(x, p, q\\right)</script></html>"
      ],
      "text/plain": [
       "(x, p, q)"
      ]
     },
     "execution_count": 2,
     "metadata": {},
     "output_type": "execute_result"
    }
   ],
   "source": [
    "var('x p q', domain='real')"
   ]
  },
  {
   "cell_type": "code",
   "execution_count": 3,
   "metadata": {},
   "outputs": [
    {
     "data": {
      "text/html": [
       "<html><script type=\"math/tex; mode=display\">\\newcommand{\\Bold}[1]{\\mathbf{#1}}\\left(m, w\\right)</script></html>"
      ],
      "text/plain": [
       "(m, w)"
      ]
     },
     "execution_count": 3,
     "metadata": {},
     "output_type": "execute_result"
    }
   ],
   "source": [
    "var('m w', domain='positive')"
   ]
  },
  {
   "cell_type": "code",
   "execution_count": 13,
   "metadata": {},
   "outputs": [
    {
     "data": {
      "text/html": [
       "<html><script type=\"math/tex; mode=display\">\\newcommand{\\Bold}[1]{\\mathbf{#1}}-2 \\, m p q w x^{\\frac{3}{2}} e^{\\left(-\\frac{1}{2} \\, {\\left(m p^{2} + m q^{2}\\right)} w\\right)} - \\sqrt{x} e^{\\left(-\\frac{1}{2} \\, {\\left(m p^{2} + m q^{2}\\right)} w\\right)}</script></html>"
      ],
      "text/plain": [
       "-2*m*p*q*w*x^(3/2)*e^(-1/2*(m*p^2 + m*q^2)*w) - sqrt(x)*e^(-1/2*(m*p^2 + m*q^2)*w)"
      ]
     },
     "execution_count": 13,
     "metadata": {},
     "output_type": "execute_result"
    }
   ],
   "source": [
    "taylor(-sqrt(x) / sqrt(1 - x^2) * exp(- m * w / 2 * ((p^2 + q^2) * (1 + x^2) - 4*p*q*x) / (1 - x^2)), x, 0, 2)"
   ]
  }
 ],
 "metadata": {
  "kernelspec": {
   "display_name": "SageMath 9.1",
   "language": "sage",
   "name": "sagemath"
  },
  "language_info": {
   "codemirror_mode": {
    "name": "ipython",
    "version": 3
   },
   "file_extension": ".py",
   "mimetype": "text/x-python",
   "name": "python",
   "nbconvert_exporter": "python",
   "pygments_lexer": "ipython3",
   "version": "3.8.5"
  }
 },
 "nbformat": 4,
 "nbformat_minor": 4
}
